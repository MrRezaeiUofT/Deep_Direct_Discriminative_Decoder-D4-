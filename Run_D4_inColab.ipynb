{
  "nbformat": 4,
  "nbformat_minor": 0,
  "metadata": {
    "colab": {
      "provenance": [],
      "authorship_tag": "ABX9TyNVAD99H1RSJOW3ol4aDfGz",
      "include_colab_link": true
    },
    "kernelspec": {
      "name": "python3",
      "display_name": "Python 3"
    },
    "language_info": {
      "name": "python"
    }
  },
  "cells": [
    {
      "cell_type": "markdown",
      "metadata": {
        "id": "view-in-github",
        "colab_type": "text"
      },
      "source": [
        "<a href=\"https://colab.research.google.com/github/vadim-vic/Deep_Direct_Discriminative_Decoder-D4-/blob/main/Run_D4_inColab.ipynb\" target=\"_parent\"><img src=\"https://colab.research.google.com/assets/colab-badge.svg\" alt=\"Open In Colab\"/></a>"
      ]
    },
    {
      "cell_type": "markdown",
      "source": [
        "# D4: Deep Discriminative Direct Decoders\n",
        "\n",
        "The paper Deep Discriminative Direct Decoders for High-dimensional Time-series Analysis by M.R. Rezaei, M.R. Popovic, M. Lankarany, and A. Yousefi connects Space-state models with Bayesian statistics and carries several computational experiments as illustration. These experiments are in three files: \n",
        "* 03_test_D4.py\n",
        "* 04_D4_lorenz_pointprocess.py\n",
        "* 08_D4_Langevin_pointprocess.py\n",
        "\n",
        "This notebook consequently runs these files. See the details in [ArXiv, 2022]( https://arxiv.org/pdf/2205.10947.pdf). Cite this paper [DOI](https://doi.org/10.1162/neco_a_01491)."
      ],
      "metadata": {
        "id": "AmdprXay-v94"
      }
    },
    {
      "cell_type": "code",
      "execution_count": 2,
      "metadata": {
        "colab": {
          "base_uri": "https://localhost:8080/"
        },
        "id": "wezLoGV0-VOz",
        "outputId": "47ee2d51-0043-46a3-941e-82619fdaceb8"
      },
      "outputs": [
        {
          "output_type": "stream",
          "name": "stdout",
          "text": [
            "/content\n",
            "Cloning into 'Deep_Direct_Discriminative_Decoder-D4-'...\n",
            "remote: Enumerating objects: 59, done.\u001b[K\n",
            "remote: Counting objects: 100% (59/59), done.\u001b[K\n",
            "remote: Compressing objects: 100% (56/56), done.\u001b[K\n",
            "remote: Total 59 (delta 23), reused 0 (delta 0), pack-reused 0\u001b[K\n",
            "Unpacking objects: 100% (59/59), 1.16 MiB | 3.78 MiB/s, done.\n",
            "/content/Deep_Direct_Discriminative_Decoder-D4-\n",
            "03_test_D4.py                   Data_Generator_V2.py  utils.py\n",
            "04_D4_lorenz_pointprocess.py    Langevin_utils.py     utils_sampling.py\n",
            "08_D4_Langevin_pointprocess.py  Lorenz.py\n",
            "D4_model.py                     README.md\n"
          ]
        }
      ],
      "source": [
        "# Clone the projet in the default directory.\n",
        "%cd /content\n",
        "!git clone https://github.com/vadim-vic/Deep_Direct_Discriminative_Decoder-D4- \n",
        "%cd /content/Deep_Direct_Discriminative_Decoder-D4-\n",
        "%ls\n",
        "# Run the experiments."
      ]
    },
    {
      "cell_type": "code",
      "source": [
        "!python3 03_test_D4.py"
      ],
      "metadata": {
        "colab": {
          "base_uri": "https://localhost:8080/"
        },
        "id": "stdtwdT2ByND",
        "outputId": "25df7f62-d1dd-4377-aac4-b66579294150"
      },
      "execution_count": 6,
      "outputs": [
        {
          "output_type": "stream",
          "name": "stdout",
          "text": [
            "/content/Deep_Direct_Discriminative_Decoder-D4-/D4_model.py:334: UserWarning: torch.cholesky is deprecated in favor of torch.linalg.cholesky and will be removed in a future PyTorch release.\n",
            "L = torch.cholesky(A)\n",
            "should be replaced with\n",
            "L = torch.linalg.cholesky(A)\n",
            "and\n",
            "U = torch.cholesky(A, upper=True)\n",
            "should be replaced with\n",
            "U = torch.linalg.cholesky(A).mH().\n",
            "This transform will produce equivalent results for all valid (symmetric positive definite) inputs. (Triggered internally at ../aten/src/ATen/native/BatchLinearAlgebra.cpp:1615.)\n",
            "  CH_cov = torch.cholesky(.1*torch.eye(self.latent_dim))\n",
            "/content/Deep_Direct_Discriminative_Decoder-D4-/D4_model.py:347: UserWarning: To copy construct from a tensor, it is recommended to use sourceTensor.clone().detach() or sourceTensor.clone().detach().requires_grad_(True), rather than torch.tensor(sourceTensor).\n",
            "  torch.tensor(Transition_matrix,requires_grad=True),\n",
            "/content/Deep_Direct_Discriminative_Decoder-D4-/D4_model.py:348: UserWarning: To copy construct from a tensor, it is recommended to use sourceTensor.clone().detach() or sourceTensor.clone().detach().requires_grad_(True), rather than torch.tensor(sourceTensor).\n",
            "  torch.tensor(torch.zeros(self.latent_dim),requires_grad=True),\n",
            "/content/Deep_Direct_Discriminative_Decoder-D4-/D4_model.py:349: UserWarning: To copy construct from a tensor, it is recommended to use sourceTensor.clone().detach() or sourceTensor.clone().detach().requires_grad_(True), rather than torch.tensor(sourceTensor).\n",
            "  torch.tensor(CH_cov,requires_grad=True))\n",
            "/content/Deep_Direct_Discriminative_Decoder-D4-/D4_model.py:351: UserWarning: To copy construct from a tensor, it is recommended to use sourceTensor.clone().detach() or sourceTensor.clone().detach().requires_grad_(True), rather than torch.tensor(sourceTensor).\n",
            "  self.mux0 = torch.tensor(torch.zeros(self.latent_dim),requires_grad=True,dtype=torch.float32)\n",
            "/content/Deep_Direct_Discriminative_Decoder-D4-/D4_model.py:352: UserWarning: To copy construct from a tensor, it is recommended to use sourceTensor.clone().detach() or sourceTensor.clone().detach().requires_grad_(True), rather than torch.tensor(sourceTensor).\n",
            "  self.sigma0 = torch.tensor(torch.ones(self.latent_dim),requires_grad=True,dtype=torch.float32)\n",
            "corr-score =0.551472, mae-score=0.932466\n",
            "\n",
            "EM-itr-0 with Total_loss=-4.495296\n",
            "\n",
            "Figure(640x480)\n",
            "Figure(640x480)\n"
          ]
        }
      ]
    },
    {
      "cell_type": "code",
      "source": [
        "!python3 04_D4_lorenz_pointprocess.py"
      ],
      "metadata": {
        "colab": {
          "base_uri": "https://localhost:8080/"
        },
        "id": "5uP9mZ7TB9e2",
        "outputId": "e1f9dded-9dcb-4826-9396-708105793eff"
      },
      "execution_count": null,
      "outputs": [
        {
          "output_type": "stream",
          "name": "stdout",
          "text": [
            "/content/Deep_Direct_Discriminative_Decoder-D4-/Lorenz.py:36: UserWarning: To copy construct from a tensor, it is recommended to use sourceTensor.clone().detach() or sourceTensor.clone().detach().requires_grad_(True), rather than torch.tensor(sourceTensor).\n",
            "  MVN=MultivariateNormal(torch.tensor(torch.zeros(3,)),torch.tensor(torch.diag(torch.ones(3,))))\n",
            "/content/Deep_Direct_Discriminative_Decoder-D4-/D4_model.py:334: UserWarning: torch.cholesky is deprecated in favor of torch.linalg.cholesky and will be removed in a future PyTorch release.\n",
            "L = torch.cholesky(A)\n",
            "should be replaced with\n",
            "L = torch.linalg.cholesky(A)\n",
            "and\n",
            "U = torch.cholesky(A, upper=True)\n",
            "should be replaced with\n",
            "U = torch.linalg.cholesky(A).mH().\n",
            "This transform will produce equivalent results for all valid (symmetric positive definite) inputs. (Triggered internally at ../aten/src/ATen/native/BatchLinearAlgebra.cpp:1615.)\n",
            "  CH_cov = torch.cholesky(.1*torch.eye(self.latent_dim))\n",
            "/content/Deep_Direct_Discriminative_Decoder-D4-/D4_model.py:347: UserWarning: To copy construct from a tensor, it is recommended to use sourceTensor.clone().detach() or sourceTensor.clone().detach().requires_grad_(True), rather than torch.tensor(sourceTensor).\n",
            "  torch.tensor(Transition_matrix,requires_grad=True),\n",
            "/content/Deep_Direct_Discriminative_Decoder-D4-/D4_model.py:348: UserWarning: To copy construct from a tensor, it is recommended to use sourceTensor.clone().detach() or sourceTensor.clone().detach().requires_grad_(True), rather than torch.tensor(sourceTensor).\n",
            "  torch.tensor(torch.zeros(self.latent_dim),requires_grad=True),\n",
            "/content/Deep_Direct_Discriminative_Decoder-D4-/D4_model.py:349: UserWarning: To copy construct from a tensor, it is recommended to use sourceTensor.clone().detach() or sourceTensor.clone().detach().requires_grad_(True), rather than torch.tensor(sourceTensor).\n",
            "  torch.tensor(CH_cov,requires_grad=True))\n",
            "/content/Deep_Direct_Discriminative_Decoder-D4-/D4_model.py:351: UserWarning: To copy construct from a tensor, it is recommended to use sourceTensor.clone().detach() or sourceTensor.clone().detach().requires_grad_(True), rather than torch.tensor(sourceTensor).\n",
            "  self.mux0 = torch.tensor(torch.zeros(self.latent_dim),requires_grad=True,dtype=torch.float32)\n",
            "/content/Deep_Direct_Discriminative_Decoder-D4-/D4_model.py:352: UserWarning: To copy construct from a tensor, it is recommended to use sourceTensor.clone().detach() or sourceTensor.clone().detach().requires_grad_(True), rather than torch.tensor(sourceTensor).\n",
            "  self.sigma0 = torch.tensor(torch.ones(self.latent_dim),requires_grad=True,dtype=torch.float32)\n"
          ]
        }
      ]
    },
    {
      "cell_type": "code",
      "source": [
        "!python3 08_D4_Langevin_pointprocess.py"
      ],
      "metadata": {
        "id": "l4WFkZoXCCrt"
      },
      "execution_count": null,
      "outputs": []
    }
  ]
}